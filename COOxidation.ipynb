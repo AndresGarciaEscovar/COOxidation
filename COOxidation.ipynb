{
 "cells": [
  {
   "cell_type": "code",
   "execution_count": 1,
   "metadata": {},
   "outputs": [],
   "source": [
    "# Set the working directory to the current working directory.\n",
    "import os\n",
    "import copy as cp\n",
    "path1 = cp.deepcopy(os.getcwd())\n",
    "os.chdir(os.path.abspath(''))\n",
    "\n",
    "# Imports: User-defined classes.\n",
    "from Program.co_oxidation_model import COOxidation"
   ]
  },
  {
   "cell_type": "markdown",
   "metadata": {},
   "source": [
    "# $CO$ Oxidation in Ruthenium (111)"
   ]
  },
  {
   "cell_type": "markdown",
   "metadata": {},
   "source": [
    "Import the code where the mathematica generator is."
   ]
  },
  {
   "cell_type": "code",
   "execution_count": 2,
   "metadata": {},
   "outputs": [],
   "source": [
    "sites = 3\n",
    "tmp = COOxidation(sites)"
   ]
  },
  {
   "cell_type": "code",
   "execution_count": 3,
   "metadata": {},
   "outputs": [],
   "source": [
    "os.chdir(path1)"
   ]
  }
 ],
 "metadata": {
  "kernelspec": {
   "display_name": "COOxidation",
   "language": "python",
   "name": "cooxidation"
  },
  "language_info": {
   "codemirror_mode": {
    "name": "ipython",
    "version": 3
   },
   "file_extension": ".py",
   "mimetype": "text/x-python",
   "name": "python",
   "nbconvert_exporter": "python",
   "pygments_lexer": "ipython3",
   "version": "3.8.5"
  }
 },
 "nbformat": 4,
 "nbformat_minor": 5
}
