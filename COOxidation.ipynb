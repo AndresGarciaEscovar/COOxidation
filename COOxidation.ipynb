{
 "cells": [
  {
   "cell_type": "markdown",
   "id": "deb7591e",
   "metadata": {},
   "source": [
    "Define the imports before starting."
   ]
  },
  {
   "cell_type": "code",
   "execution_count": 1,
   "id": "c1bbbb3d",
   "metadata": {},
   "outputs": [],
   "source": [
    "# Set the working directory to the current working directory.\n",
    "import os\n",
    "import copy as cp\n",
    "path1 = cp.deepcopy(os.getcwd())\n",
    "os.chdir(os.path.abspath(''))\n",
    "\n",
    "# Imports: User-defined classes.\n",
    "from Program.co_oxidation_model import COOxidation"
   ]
  },
  {
   "cell_type": "markdown",
   "id": "0fae0503",
   "metadata": {},
   "source": [
    "# $CO$ Oxidation in Ruthenium (111)"
   ]
  },
  {
   "cell_type": "markdown",
   "id": "f7f34075",
   "metadata": {},
   "source": [
    "Import the code where the mathematica generator is."
   ]
  },
  {
   "cell_type": "markdown",
   "id": "439e4a17",
   "metadata": {},
   "source": [
    "$$\n",
    "    \\begin{equation}\n",
    "    \\frac{d\\left<E_{1},CO_{2},O_{3}\\right>}{dt} =k_{CO_{ads}} \\left(\\left<E_{1},E_{2},O_{3}\\right> - \\left<E_{1},CO_{2},O_{3}\\right>\\right) + k_{CO_{des}} \\left(\\left<CO_{1},CO_{2},O_{3}\\right> - \\left<E_{1},CO_{2},O_{3}\\right>\\right) + k_{CO_{dif}} \\left(\\left<CO_{1},E_{2},O_{3}\\right> - \\left<E_{1},CO_{2},O_{3}\\right>\\right) -  k_{COO_{lh}} \\left<E_{1},CO_{2},O_{3}\\right> + k_{COO_{er}} \\left(\\left<O_{1},CO_{2},O_{3}\\right> - \\left<E_{1},CO_{2},O_{3}\\right>\\right)\n",
    "    \\end{equation}\n",
    "$$"
   ]
  },
  {
   "cell_type": "markdown",
   "id": "2e95c484",
   "metadata": {},
   "source": [
    "$$\n",
    "    \\begin{equation}\n",
    "    \\frac{d\\left<E_{3}\\right>}{dt} =-k_{O_{ads}} \\left<E_{2}\\right>\\left<E_{3}\\right> +  k_{O_{des}} \\left<O_{2}\\right>\\left<O_{3}\\right> + k_{O_{dif}} \\left(\\left<E_{2}\\right>\\left<O_{3}\\right> - \\left<O_{2}\\right>\\left<E_{3}\\right>\\right) -  k_{CO_{ads}} \\left<E_{3}\\right> +  k_{CO_{des}} \\left<CO_{3}\\right> + k_{CO_{dif}} \\left(\\left<E_{2}\\right>\\left<CO_{3}\\right> - \\left<CO_{2}\\right>\\left<E_{3}\\right>\\right) + k_{COO_{lh}} \\left(\\left<O_{2}\\right>\\left<CO_{3}\\right> + \\left<CO_{2}\\right>\\left<O_{3}\\right>\\right) +  k_{COO_{er}} \\left<O_{3}\\right>\n",
    "    \\end{equation}\n",
    "$$"
   ]
  },
  {
   "cell_type": "code",
   "execution_count": null,
   "id": "f05649af",
   "metadata": {},
   "outputs": [],
   "source": []
  }
 ],
 "metadata": {
  "kernelspec": {
   "display_name": "COOxidation",
   "language": "python",
   "name": "cooxidation"
  },
  "language_info": {
   "codemirror_mode": {
    "name": "ipython",
    "version": 3
   },
   "file_extension": ".py",
   "mimetype": "text/x-python",
   "name": "python",
   "nbconvert_exporter": "python",
   "pygments_lexer": "ipython3",
   "version": "3.8.10"
  }
 },
 "nbformat": 4,
 "nbformat_minor": 5
}
