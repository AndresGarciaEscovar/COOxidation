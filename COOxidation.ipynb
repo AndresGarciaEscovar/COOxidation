{
 "cells": [
  {
   "cell_type": "markdown",
   "metadata": {},
   "source": [
    "Define the imports before starting."
   ]
  },
  {
   "cell_type": "code",
   "execution_count": 1,
   "metadata": {},
   "outputs": [],
   "source": [
    "# Set the working directory to the current working directory.\n",
    "import os\n",
    "import copy as cp\n",
    "path1 = cp.deepcopy(os.getcwd())\n",
    "os.chdir(os.path.abspath(''))\n",
    "\n",
    "# Imports: User-defined classes.\n",
    "from Program.co_oxidation_model import COOxidation"
   ]
  },
  {
   "cell_type": "markdown",
   "metadata": {},
   "source": [
    "# $CO$ Oxidation in Ruthenium (111)"
   ]
  },
  {
   "cell_type": "markdown",
   "metadata": {},
   "source": [
    "Import the code where the mathematica generator is."
   ]
  },
  {
   "cell_type": "code",
   "execution_count": 2,
   "metadata": {},
   "outputs": [],
   "source": [
    "sites = 3\n",
    "tmp = COOxidation(sites)"
   ]
  },
  {
   "cell_type": "markdown",
   "metadata": {},
   "source": [
    "The representation of the rates serve as the keys to get the different information from the rates."
   ]
  },
  {
   "cell_type": "code",
   "execution_count": 3,
   "metadata": {},
   "outputs": [
    {
     "name": "stdout",
     "output_type": "stream",
     "text": [
      "('k.O.ads', 'k.O.des', 'k.O.dif', 'k.CO.ads', 'k.CO.des', 'k.CO.dif', 'k.COO.lh', 'k.COO.el')\n"
     ]
    }
   ],
   "source": [
    "keys = tmp._get_process_rates()\n",
    "len_keys = max(map(len, keys))\n",
    "print(keys)"
   ]
  },
  {
   "cell_type": "code",
   "execution_count": 4,
   "metadata": {},
   "outputs": [
    {
     "name": "stdout",
     "output_type": "stream",
     "text": [
      " k.O.ads order: 2\n",
      " k.O.des order: 2\n",
      " k.O.dif order: 2\n",
      "k.CO.ads order: 1\n",
      "k.CO.des order: 1\n",
      "k.CO.dif order: 2\n",
      "k.COO.lh order: 1\n",
      "k.COO.el order: 1\n"
     ]
    }
   ],
   "source": [
    "order_dictionary = tmp._get_process_orders()\n",
    "for key in keys:\n",
    "    print(f\"{key:>{len_keys}} order:\", order_dictionary[key])"
   ]
  }
 ],
 "metadata": {
  "kernelspec": {
   "display_name": "COOxidation",
   "language": "python",
   "name": "cooxidation"
  },
  "language_info": {
   "codemirror_mode": {
    "name": "ipython",
    "version": 3
   },
   "file_extension": ".py",
   "mimetype": "text/x-python",
   "name": "python",
   "nbconvert_exporter": "python",
   "pygments_lexer": "ipython3",
   "version": "3.8.5"
  }
 },
 "nbformat": 4,
 "nbformat_minor": 5
}
